{
 "cells": [
  {
   "cell_type": "code",
   "execution_count": null,
   "metadata": {},
   "outputs": [],
   "source": [
    "!pip install paddleocr\n",
    "!pip install pandas\n",
    "!pip install paddlepaddle\n",
    "!pip install openpyxl"
   ]
  },
  {
   "cell_type": "code",
   "execution_count": 14,
   "metadata": {},
   "outputs": [],
   "source": [
    "import pandas as pd\n",
    "import re\n",
    "from paddleocr import PaddleOCR"
   ]
  },
  {
   "cell_type": "code",
   "execution_count": 15,
   "metadata": {},
   "outputs": [
    {
     "name": "stdout",
     "output_type": "stream",
     "text": [
      "[2025/02/27 17:52:27] ppocr DEBUG: Namespace(help='==SUPPRESS==', use_gpu=False, use_xpu=False, use_npu=False, use_mlu=False, ir_optim=True, use_tensorrt=False, min_subgraph_size=15, precision='fp32', gpu_mem=500, gpu_id=0, image_dir=None, page_num=0, det_algorithm='DB', det_model_dir='C:\\\\Users\\\\MORNING SHIFT/.paddleocr/whl\\\\det\\\\en\\\\en_PP-OCRv3_det_infer', det_limit_side_len=960, det_limit_type='max', det_box_type='quad', det_db_thresh=0.3, det_db_box_thresh=0.6, det_db_unclip_ratio=1.5, max_batch_size=10, use_dilation=False, det_db_score_mode='fast', det_east_score_thresh=0.8, det_east_cover_thresh=0.1, det_east_nms_thresh=0.2, det_sast_score_thresh=0.5, det_sast_nms_thresh=0.2, det_pse_thresh=0, det_pse_box_thresh=0.85, det_pse_min_area=16, det_pse_scale=1, scales=[8, 16, 32], alpha=1.0, beta=1.0, fourier_degree=5, rec_algorithm='SVTR_LCNet', rec_model_dir='C:\\\\Users\\\\MORNING SHIFT/.paddleocr/whl\\\\rec\\\\en\\\\en_PP-OCRv4_rec_infer', rec_image_inverse=True, rec_image_shape='3, 48, 320', rec_batch_num=6, max_text_length=25, rec_char_dict_path='c:\\\\Users\\\\MORNING SHIFT\\\\AppData\\\\Local\\\\Programs\\\\Python\\\\Python310\\\\lib\\\\site-packages\\\\paddleocr\\\\ppocr\\\\utils\\\\en_dict.txt', use_space_char=True, vis_font_path='./doc/fonts/simfang.ttf', drop_score=0.5, e2e_algorithm='PGNet', e2e_model_dir=None, e2e_limit_side_len=768, e2e_limit_type='max', e2e_pgnet_score_thresh=0.5, e2e_char_dict_path='./ppocr/utils/ic15_dict.txt', e2e_pgnet_valid_set='totaltext', e2e_pgnet_mode='fast', use_angle_cls=True, cls_model_dir='C:\\\\Users\\\\MORNING SHIFT/.paddleocr/whl\\\\cls\\\\ch_ppocr_mobile_v2.0_cls_infer', cls_image_shape='3, 48, 192', label_list=['0', '180'], cls_batch_num=6, cls_thresh=0.9, enable_mkldnn=False, cpu_threads=10, use_pdserving=False, warmup=False, sr_model_dir=None, sr_image_shape='3, 32, 128', sr_batch_num=1, draw_img_save_dir='./inference_results', save_crop_res=False, crop_res_save_dir='./output', use_mp=False, total_process_num=1, process_id=0, benchmark=False, save_log_path='./log_output/', show_log=True, use_onnx=False, return_word_box=False, output='./output', table_max_len=488, table_algorithm='TableAttn', table_model_dir=None, merge_no_span_structure=True, table_char_dict_path=None, formula_algorithm='LaTeXOCR', formula_model_dir=None, formula_char_dict_path=None, formula_batch_num=1, layout_model_dir=None, layout_dict_path=None, layout_score_threshold=0.5, layout_nms_threshold=0.5, kie_algorithm='LayoutXLM', ser_model_dir=None, re_model_dir=None, use_visual_backbone=True, ser_dict_path='../train_data/XFUND/class_list_xfun.txt', ocr_order_method=None, mode='structure', image_orientation=False, layout=True, table=True, formula=False, ocr=True, recovery=False, recovery_to_markdown=False, use_pdf2docx_api=False, invert=False, binarize=False, alphacolor=(255, 255, 255), lang='en', det=True, rec=True, type='ocr', savefile=False, ocr_version='PP-OCRv4', structure_version='PP-StructureV2')\n"
     ]
    }
   ],
   "source": [
    "ocr = PaddleOCR(use_angle_cls=True, lang=\"en\")"
   ]
  },
  {
   "cell_type": "code",
   "execution_count": null,
   "metadata": {},
   "outputs": [],
   "source": [
    "image_paths = {\n",
    "    \"1\": r\"D:\\Nj\\Learning\\Image_Extraction\\Input_Data\\1.jpg\",\n",
    "    \"3\": r\"D:\\Nj\\Learning\\Image_Extraction\\Input_Data\\3.jpg\"\n",
    "}"
   ]
  },
  {
   "cell_type": "code",
   "execution_count": 16,
   "metadata": {},
   "outputs": [
    {
     "name": "stdout",
     "output_type": "stream",
     "text": [
      "[2025/02/27 17:52:43] ppocr DEBUG: dt_boxes num : 43, elapsed : 1.66780424118042\n",
      "[2025/02/27 17:52:45] ppocr DEBUG: cls num  : 43, elapsed : 1.2542355060577393\n",
      "[2025/02/27 17:53:11] ppocr DEBUG: rec_res num  : 43, elapsed : 25.857853651046753\n",
      "Extracted text saved at: D:\\Nj\\Learning\\Image_Extraction\\Generated_data\\extracted_text_1.csv\n",
      "[2025/02/27 17:53:11] ppocr DEBUG: dt_boxes num : 38, elapsed : 0.40741801261901855\n",
      "[2025/02/27 17:53:12] ppocr DEBUG: cls num  : 38, elapsed : 0.9684038162231445\n",
      "[2025/02/27 17:53:31] ppocr DEBUG: rec_res num  : 38, elapsed : 19.209805011749268\n",
      "Extracted text saved at: D:\\Nj\\Learning\\Image_Extraction\\Generated_data\\extracted_text_3.csv\n"
     ]
    }
   ],
   "source": [
    "for key, image_path in image_paths.items():\n",
    "    results = ocr.ocr(image_path, cls=True)\n",
    "    extracted_text = []\n",
    "\n",
    "    for line in results:\n",
    "        for word_info in line:\n",
    "            bbox, text_data = word_info\n",
    "            text, confidence = text_data\n",
    "            extracted_text.append([text, confidence])\n",
    "\n",
    "    df = pd.DataFrame(extracted_text, columns=[\"Text\", \"Confidence\"])\n",
    "    extracted_text_path = rf\"D:\\Nj\\Learning\\Image_Extraction\\Generated_data\\extracted_text_{key}.csv\"\n",
    "    \n",
    "    df.to_csv(extracted_text_path, index=False)\n",
    "    print(f\"Extracted text saved at: {extracted_text_path}\")"
   ]
  },
  {
   "cell_type": "code",
   "execution_count": 18,
   "metadata": {},
   "outputs": [],
   "source": [
    "modified_files = {\n",
    "    \"1\": r\"D:\\Nj\\Learning\\Image_Extraction\\Modified_data\\modified_text_1.xlsx\",\n",
    "    \"3\": r\"D:\\Nj\\Learning\\Image_Extraction\\Modified_data\\modified_text_3.xlsx\"\n",
    "}"
   ]
  },
  {
   "cell_type": "code",
   "execution_count": null,
   "metadata": {},
   "outputs": [
    {
     "name": "stdout",
     "output_type": "stream",
     "text": [
      "Loaded modified file: D:\\Nj\\Learning\\Image_Extraction\\Modified_data\\modified_text_1.xlsx\n",
      "Formatted output saved at: D:\\Nj\\Learning\\Image_Extraction\\Final_Output\\Final_Output1.csv\n",
      "Loaded modified file: D:\\Nj\\Learning\\Image_Extraction\\Modified_data\\modified_text_3.xlsx\n",
      "Formatted output saved at: D:\\Nj\\Learning\\Image_Extraction\\Final_Output\\Final_Output3.csv\n"
     ]
    }
   ],
   "source": [
    "for key, file_path in modified_files.items():\n",
    "    try:\n",
    "        modified_df = pd.read_excel(file_path)  \n",
    "        print(f\"Loaded modified file: {file_path}\")\n",
    "    except Exception as e:\n",
    "        print(f\"Error loading file {file_path}: {e}\")\n",
    "        continue\n",
    "\n",
    "    data_dict = {}\n",
    "\n",
    "    for index, row in modified_df.iterrows():\n",
    "        if \"Text\" in row:\n",
    "            parts = str(row[\"Text\"]).split(\" \", 1)\n",
    "            if len(parts) == 2:\n",
    "                key_text, value = parts\n",
    "                data_dict[key_text.strip()] = value.strip()\n",
    "\n",
    "    formatted_df = pd.DataFrame(list(data_dict.items()), columns=[\"Info\", \"Details\"])\n",
    "    formatted_output_path = rf\"D:\\Nj\\Learning\\Image_Extraction\\Final_Output\\Final_Output{key}.csv\"\n",
    "    formatted_df.to_csv(formatted_output_path, index=False)\n",
    "    print(f\"Formatted output saved at: {formatted_output_path}\")"
   ]
  }
 ],
 "metadata": {
  "kernelspec": {
   "display_name": "Python 3",
   "language": "python",
   "name": "python3"
  },
  "language_info": {
   "codemirror_mode": {
    "name": "ipython",
    "version": 3
   },
   "file_extension": ".py",
   "mimetype": "text/x-python",
   "name": "python",
   "nbconvert_exporter": "python",
   "pygments_lexer": "ipython3",
   "version": "3.10.0"
  }
 },
 "nbformat": 4,
 "nbformat_minor": 2
}
